{
 "cells": [
  {
   "cell_type": "markdown",
   "id": "b48e14e7",
   "metadata": {},
   "source": [
    "# Nama: Jade Wulantrisna Aitken\n",
    "# NIM: 2702279205\n",
    "\n",
    "### Soal: GANJIL [A]\n"
   ]
  },
  {
   "cell_type": "markdown",
   "id": "b6b5ca5d",
   "metadata": {},
   "source": [
    "## Preprocess Data"
   ]
  },
  {
   "cell_type": "code",
   "execution_count": 1,
   "id": "d1362251",
   "metadata": {},
   "outputs": [],
   "source": [
    "import pandas as pd\n",
    "import numpy as np\n",
    "import pickle as pkl\n",
    "from sklearn.model_selection import train_test_split\n",
    "import matplotlib.pyplot as plt             #visualisation\n"
   ]
  },
  {
   "cell_type": "code",
   "execution_count": 2,
   "id": "bcbc81c1",
   "metadata": {},
   "outputs": [],
   "source": [
    "df= pd.read_csv(\"Dataset_A_loan.csv\")"
   ]
  },
  {
   "cell_type": "code",
   "execution_count": 3,
   "id": "161efc63",
   "metadata": {},
   "outputs": [
    {
     "data": {
      "text/html": [
       "<div>\n",
       "<style scoped>\n",
       "    .dataframe tbody tr th:only-of-type {\n",
       "        vertical-align: middle;\n",
       "    }\n",
       "\n",
       "    .dataframe tbody tr th {\n",
       "        vertical-align: top;\n",
       "    }\n",
       "\n",
       "    .dataframe thead th {\n",
       "        text-align: right;\n",
       "    }\n",
       "</style>\n",
       "<table border=\"1\" class=\"dataframe\">\n",
       "  <thead>\n",
       "    <tr style=\"text-align: right;\">\n",
       "      <th></th>\n",
       "      <th>person_age</th>\n",
       "      <th>person_gender</th>\n",
       "      <th>person_education</th>\n",
       "      <th>person_income</th>\n",
       "      <th>person_emp_exp</th>\n",
       "      <th>person_home_ownership</th>\n",
       "      <th>loan_amnt</th>\n",
       "      <th>loan_intent</th>\n",
       "      <th>loan_int_rate</th>\n",
       "      <th>loan_percent_income</th>\n",
       "      <th>cb_person_cred_hist_length</th>\n",
       "      <th>credit_score</th>\n",
       "      <th>previous_loan_defaults_on_file</th>\n",
       "      <th>loan_status</th>\n",
       "    </tr>\n",
       "  </thead>\n",
       "  <tbody>\n",
       "    <tr>\n",
       "      <th>0</th>\n",
       "      <td>22.0</td>\n",
       "      <td>female</td>\n",
       "      <td>Master</td>\n",
       "      <td>71948.0</td>\n",
       "      <td>0</td>\n",
       "      <td>RENT</td>\n",
       "      <td>35000.0</td>\n",
       "      <td>PERSONAL</td>\n",
       "      <td>16.02</td>\n",
       "      <td>0.49</td>\n",
       "      <td>3.0</td>\n",
       "      <td>561</td>\n",
       "      <td>No</td>\n",
       "      <td>1</td>\n",
       "    </tr>\n",
       "    <tr>\n",
       "      <th>1</th>\n",
       "      <td>21.0</td>\n",
       "      <td>female</td>\n",
       "      <td>High School</td>\n",
       "      <td>12282.0</td>\n",
       "      <td>0</td>\n",
       "      <td>OWN</td>\n",
       "      <td>1000.0</td>\n",
       "      <td>EDUCATION</td>\n",
       "      <td>11.14</td>\n",
       "      <td>0.08</td>\n",
       "      <td>2.0</td>\n",
       "      <td>504</td>\n",
       "      <td>Yes</td>\n",
       "      <td>0</td>\n",
       "    </tr>\n",
       "    <tr>\n",
       "      <th>2</th>\n",
       "      <td>25.0</td>\n",
       "      <td>female</td>\n",
       "      <td>High School</td>\n",
       "      <td>12438.0</td>\n",
       "      <td>3</td>\n",
       "      <td>MORTGAGE</td>\n",
       "      <td>5500.0</td>\n",
       "      <td>MEDICAL</td>\n",
       "      <td>12.87</td>\n",
       "      <td>0.44</td>\n",
       "      <td>3.0</td>\n",
       "      <td>635</td>\n",
       "      <td>No</td>\n",
       "      <td>1</td>\n",
       "    </tr>\n",
       "    <tr>\n",
       "      <th>3</th>\n",
       "      <td>23.0</td>\n",
       "      <td>female</td>\n",
       "      <td>Bachelor</td>\n",
       "      <td>79753.0</td>\n",
       "      <td>0</td>\n",
       "      <td>RENT</td>\n",
       "      <td>35000.0</td>\n",
       "      <td>MEDICAL</td>\n",
       "      <td>15.23</td>\n",
       "      <td>0.44</td>\n",
       "      <td>2.0</td>\n",
       "      <td>675</td>\n",
       "      <td>No</td>\n",
       "      <td>1</td>\n",
       "    </tr>\n",
       "    <tr>\n",
       "      <th>4</th>\n",
       "      <td>24.0</td>\n",
       "      <td>male</td>\n",
       "      <td>Master</td>\n",
       "      <td>66135.0</td>\n",
       "      <td>1</td>\n",
       "      <td>RENT</td>\n",
       "      <td>35000.0</td>\n",
       "      <td>MEDICAL</td>\n",
       "      <td>14.27</td>\n",
       "      <td>0.53</td>\n",
       "      <td>4.0</td>\n",
       "      <td>586</td>\n",
       "      <td>No</td>\n",
       "      <td>1</td>\n",
       "    </tr>\n",
       "  </tbody>\n",
       "</table>\n",
       "</div>"
      ],
      "text/plain": [
       "   person_age person_gender person_education  person_income  person_emp_exp  \\\n",
       "0        22.0        female           Master        71948.0               0   \n",
       "1        21.0        female      High School        12282.0               0   \n",
       "2        25.0        female      High School        12438.0               3   \n",
       "3        23.0        female         Bachelor        79753.0               0   \n",
       "4        24.0          male           Master        66135.0               1   \n",
       "\n",
       "  person_home_ownership  loan_amnt loan_intent  loan_int_rate  \\\n",
       "0                  RENT    35000.0    PERSONAL          16.02   \n",
       "1                   OWN     1000.0   EDUCATION          11.14   \n",
       "2              MORTGAGE     5500.0     MEDICAL          12.87   \n",
       "3                  RENT    35000.0     MEDICAL          15.23   \n",
       "4                  RENT    35000.0     MEDICAL          14.27   \n",
       "\n",
       "   loan_percent_income  cb_person_cred_hist_length  credit_score  \\\n",
       "0                 0.49                         3.0           561   \n",
       "1                 0.08                         2.0           504   \n",
       "2                 0.44                         3.0           635   \n",
       "3                 0.44                         2.0           675   \n",
       "4                 0.53                         4.0           586   \n",
       "\n",
       "  previous_loan_defaults_on_file  loan_status  \n",
       "0                             No            1  \n",
       "1                            Yes            0  \n",
       "2                             No            1  \n",
       "3                             No            1  \n",
       "4                             No            1  "
      ]
     },
     "execution_count": 3,
     "metadata": {},
     "output_type": "execute_result"
    }
   ],
   "source": [
    "df.head()"
   ]
  },
  {
   "cell_type": "code",
   "execution_count": 4,
   "id": "1efc6af2-c382-4e66-9ac5-361f7d02ebae",
   "metadata": {},
   "outputs": [
    {
     "data": {
      "text/html": [
       "<div>\n",
       "<style scoped>\n",
       "    .dataframe tbody tr th:only-of-type {\n",
       "        vertical-align: middle;\n",
       "    }\n",
       "\n",
       "    .dataframe tbody tr th {\n",
       "        vertical-align: top;\n",
       "    }\n",
       "\n",
       "    .dataframe thead th {\n",
       "        text-align: right;\n",
       "    }\n",
       "</style>\n",
       "<table border=\"1\" class=\"dataframe\">\n",
       "  <thead>\n",
       "    <tr style=\"text-align: right;\">\n",
       "      <th></th>\n",
       "      <th>person_age</th>\n",
       "      <th>person_income</th>\n",
       "      <th>person_emp_exp</th>\n",
       "      <th>loan_amnt</th>\n",
       "      <th>loan_int_rate</th>\n",
       "      <th>loan_percent_income</th>\n",
       "      <th>cb_person_cred_hist_length</th>\n",
       "      <th>credit_score</th>\n",
       "      <th>loan_status</th>\n",
       "    </tr>\n",
       "  </thead>\n",
       "  <tbody>\n",
       "    <tr>\n",
       "      <th>count</th>\n",
       "      <td>45000.000000</td>\n",
       "      <td>4.275000e+04</td>\n",
       "      <td>45000.000000</td>\n",
       "      <td>45000.000000</td>\n",
       "      <td>45000.000000</td>\n",
       "      <td>45000.000000</td>\n",
       "      <td>45000.000000</td>\n",
       "      <td>45000.000000</td>\n",
       "      <td>45000.000000</td>\n",
       "    </tr>\n",
       "    <tr>\n",
       "      <th>mean</th>\n",
       "      <td>27.764178</td>\n",
       "      <td>8.018223e+04</td>\n",
       "      <td>5.410333</td>\n",
       "      <td>9583.157556</td>\n",
       "      <td>11.006606</td>\n",
       "      <td>0.139725</td>\n",
       "      <td>5.867489</td>\n",
       "      <td>632.608756</td>\n",
       "      <td>0.222222</td>\n",
       "    </tr>\n",
       "    <tr>\n",
       "      <th>std</th>\n",
       "      <td>6.045108</td>\n",
       "      <td>7.331158e+04</td>\n",
       "      <td>6.063532</td>\n",
       "      <td>6314.886691</td>\n",
       "      <td>2.978808</td>\n",
       "      <td>0.087212</td>\n",
       "      <td>3.879702</td>\n",
       "      <td>50.435865</td>\n",
       "      <td>0.415744</td>\n",
       "    </tr>\n",
       "    <tr>\n",
       "      <th>min</th>\n",
       "      <td>20.000000</td>\n",
       "      <td>8.000000e+03</td>\n",
       "      <td>0.000000</td>\n",
       "      <td>500.000000</td>\n",
       "      <td>5.420000</td>\n",
       "      <td>0.000000</td>\n",
       "      <td>2.000000</td>\n",
       "      <td>390.000000</td>\n",
       "      <td>0.000000</td>\n",
       "    </tr>\n",
       "    <tr>\n",
       "      <th>25%</th>\n",
       "      <td>24.000000</td>\n",
       "      <td>4.726725e+04</td>\n",
       "      <td>1.000000</td>\n",
       "      <td>5000.000000</td>\n",
       "      <td>8.590000</td>\n",
       "      <td>0.070000</td>\n",
       "      <td>3.000000</td>\n",
       "      <td>601.000000</td>\n",
       "      <td>0.000000</td>\n",
       "    </tr>\n",
       "    <tr>\n",
       "      <th>50%</th>\n",
       "      <td>26.000000</td>\n",
       "      <td>6.705500e+04</td>\n",
       "      <td>4.000000</td>\n",
       "      <td>8000.000000</td>\n",
       "      <td>11.010000</td>\n",
       "      <td>0.120000</td>\n",
       "      <td>4.000000</td>\n",
       "      <td>640.000000</td>\n",
       "      <td>0.000000</td>\n",
       "    </tr>\n",
       "    <tr>\n",
       "      <th>75%</th>\n",
       "      <td>30.000000</td>\n",
       "      <td>9.582125e+04</td>\n",
       "      <td>8.000000</td>\n",
       "      <td>12237.250000</td>\n",
       "      <td>12.990000</td>\n",
       "      <td>0.190000</td>\n",
       "      <td>8.000000</td>\n",
       "      <td>670.000000</td>\n",
       "      <td>0.000000</td>\n",
       "    </tr>\n",
       "    <tr>\n",
       "      <th>max</th>\n",
       "      <td>144.000000</td>\n",
       "      <td>5.556399e+06</td>\n",
       "      <td>125.000000</td>\n",
       "      <td>35000.000000</td>\n",
       "      <td>20.000000</td>\n",
       "      <td>0.660000</td>\n",
       "      <td>30.000000</td>\n",
       "      <td>850.000000</td>\n",
       "      <td>1.000000</td>\n",
       "    </tr>\n",
       "  </tbody>\n",
       "</table>\n",
       "</div>"
      ],
      "text/plain": [
       "         person_age  person_income  person_emp_exp     loan_amnt  \\\n",
       "count  45000.000000   4.275000e+04    45000.000000  45000.000000   \n",
       "mean      27.764178   8.018223e+04        5.410333   9583.157556   \n",
       "std        6.045108   7.331158e+04        6.063532   6314.886691   \n",
       "min       20.000000   8.000000e+03        0.000000    500.000000   \n",
       "25%       24.000000   4.726725e+04        1.000000   5000.000000   \n",
       "50%       26.000000   6.705500e+04        4.000000   8000.000000   \n",
       "75%       30.000000   9.582125e+04        8.000000  12237.250000   \n",
       "max      144.000000   5.556399e+06      125.000000  35000.000000   \n",
       "\n",
       "       loan_int_rate  loan_percent_income  cb_person_cred_hist_length  \\\n",
       "count   45000.000000         45000.000000                45000.000000   \n",
       "mean       11.006606             0.139725                    5.867489   \n",
       "std         2.978808             0.087212                    3.879702   \n",
       "min         5.420000             0.000000                    2.000000   \n",
       "25%         8.590000             0.070000                    3.000000   \n",
       "50%        11.010000             0.120000                    4.000000   \n",
       "75%        12.990000             0.190000                    8.000000   \n",
       "max        20.000000             0.660000                   30.000000   \n",
       "\n",
       "       credit_score   loan_status  \n",
       "count  45000.000000  45000.000000  \n",
       "mean     632.608756      0.222222  \n",
       "std       50.435865      0.415744  \n",
       "min      390.000000      0.000000  \n",
       "25%      601.000000      0.000000  \n",
       "50%      640.000000      0.000000  \n",
       "75%      670.000000      0.000000  \n",
       "max      850.000000      1.000000  "
      ]
     },
     "execution_count": 4,
     "metadata": {},
     "output_type": "execute_result"
    }
   ],
   "source": [
    "df.describe()"
   ]
  },
  {
   "cell_type": "code",
   "execution_count": 5,
   "id": "33cd9136",
   "metadata": {},
   "outputs": [
    {
     "data": {
      "text/plain": [
       "(45000, 14)"
      ]
     },
     "execution_count": 5,
     "metadata": {},
     "output_type": "execute_result"
    }
   ],
   "source": [
    "df.shape"
   ]
  },
  {
   "cell_type": "markdown",
   "id": "37d1c3ec",
   "metadata": {},
   "source": [
    "#### cek apakah ada salah data types. perbaiki."
   ]
  },
  {
   "cell_type": "code",
   "execution_count": 6,
   "id": "7d7ff093",
   "metadata": {},
   "outputs": [
    {
     "data": {
      "text/plain": [
       "person_age                        float64\n",
       "person_gender                      object\n",
       "person_education                   object\n",
       "person_income                     float64\n",
       "person_emp_exp                      int64\n",
       "person_home_ownership              object\n",
       "loan_amnt                         float64\n",
       "loan_intent                        object\n",
       "loan_int_rate                     float64\n",
       "loan_percent_income               float64\n",
       "cb_person_cred_hist_length        float64\n",
       "credit_score                        int64\n",
       "previous_loan_defaults_on_file     object\n",
       "loan_status                         int64\n",
       "dtype: object"
      ]
     },
     "execution_count": 6,
     "metadata": {},
     "output_type": "execute_result"
    }
   ],
   "source": [
    "df.dtypes"
   ]
  },
  {
   "cell_type": "markdown",
   "id": "ac1c7e1e",
   "metadata": {},
   "source": [
    "Data types sudah sesuai semua"
   ]
  },
  {
   "cell_type": "markdown",
   "id": "ec3522c2",
   "metadata": {},
   "source": [
    "#### Rename data for efficiency"
   ]
  },
  {
   "cell_type": "code",
   "execution_count": 7,
   "id": "2c5bcd86",
   "metadata": {},
   "outputs": [
    {
     "data": {
      "text/html": [
       "<div>\n",
       "<style scoped>\n",
       "    .dataframe tbody tr th:only-of-type {\n",
       "        vertical-align: middle;\n",
       "    }\n",
       "\n",
       "    .dataframe tbody tr th {\n",
       "        vertical-align: top;\n",
       "    }\n",
       "\n",
       "    .dataframe thead th {\n",
       "        text-align: right;\n",
       "    }\n",
       "</style>\n",
       "<table border=\"1\" class=\"dataframe\">\n",
       "  <thead>\n",
       "    <tr style=\"text-align: right;\">\n",
       "      <th></th>\n",
       "      <th>age</th>\n",
       "      <th>gender</th>\n",
       "      <th>education</th>\n",
       "      <th>income</th>\n",
       "      <th>emp_exp</th>\n",
       "      <th>home_own</th>\n",
       "      <th>loan_amnt</th>\n",
       "      <th>loan_intent</th>\n",
       "      <th>int_rate</th>\n",
       "      <th>percent_income</th>\n",
       "      <th>cred_hist</th>\n",
       "      <th>cred_score</th>\n",
       "      <th>prev_defaults</th>\n",
       "      <th>loan_status</th>\n",
       "    </tr>\n",
       "  </thead>\n",
       "  <tbody>\n",
       "    <tr>\n",
       "      <th>0</th>\n",
       "      <td>22.0</td>\n",
       "      <td>female</td>\n",
       "      <td>Master</td>\n",
       "      <td>71948.0</td>\n",
       "      <td>0</td>\n",
       "      <td>RENT</td>\n",
       "      <td>35000.0</td>\n",
       "      <td>PERSONAL</td>\n",
       "      <td>16.02</td>\n",
       "      <td>0.49</td>\n",
       "      <td>3.0</td>\n",
       "      <td>561</td>\n",
       "      <td>No</td>\n",
       "      <td>1</td>\n",
       "    </tr>\n",
       "    <tr>\n",
       "      <th>1</th>\n",
       "      <td>21.0</td>\n",
       "      <td>female</td>\n",
       "      <td>High School</td>\n",
       "      <td>12282.0</td>\n",
       "      <td>0</td>\n",
       "      <td>OWN</td>\n",
       "      <td>1000.0</td>\n",
       "      <td>EDUCATION</td>\n",
       "      <td>11.14</td>\n",
       "      <td>0.08</td>\n",
       "      <td>2.0</td>\n",
       "      <td>504</td>\n",
       "      <td>Yes</td>\n",
       "      <td>0</td>\n",
       "    </tr>\n",
       "    <tr>\n",
       "      <th>2</th>\n",
       "      <td>25.0</td>\n",
       "      <td>female</td>\n",
       "      <td>High School</td>\n",
       "      <td>12438.0</td>\n",
       "      <td>3</td>\n",
       "      <td>MORTGAGE</td>\n",
       "      <td>5500.0</td>\n",
       "      <td>MEDICAL</td>\n",
       "      <td>12.87</td>\n",
       "      <td>0.44</td>\n",
       "      <td>3.0</td>\n",
       "      <td>635</td>\n",
       "      <td>No</td>\n",
       "      <td>1</td>\n",
       "    </tr>\n",
       "    <tr>\n",
       "      <th>3</th>\n",
       "      <td>23.0</td>\n",
       "      <td>female</td>\n",
       "      <td>Bachelor</td>\n",
       "      <td>79753.0</td>\n",
       "      <td>0</td>\n",
       "      <td>RENT</td>\n",
       "      <td>35000.0</td>\n",
       "      <td>MEDICAL</td>\n",
       "      <td>15.23</td>\n",
       "      <td>0.44</td>\n",
       "      <td>2.0</td>\n",
       "      <td>675</td>\n",
       "      <td>No</td>\n",
       "      <td>1</td>\n",
       "    </tr>\n",
       "    <tr>\n",
       "      <th>4</th>\n",
       "      <td>24.0</td>\n",
       "      <td>male</td>\n",
       "      <td>Master</td>\n",
       "      <td>66135.0</td>\n",
       "      <td>1</td>\n",
       "      <td>RENT</td>\n",
       "      <td>35000.0</td>\n",
       "      <td>MEDICAL</td>\n",
       "      <td>14.27</td>\n",
       "      <td>0.53</td>\n",
       "      <td>4.0</td>\n",
       "      <td>586</td>\n",
       "      <td>No</td>\n",
       "      <td>1</td>\n",
       "    </tr>\n",
       "  </tbody>\n",
       "</table>\n",
       "</div>"
      ],
      "text/plain": [
       "    age  gender    education   income  emp_exp  home_own  loan_amnt  \\\n",
       "0  22.0  female       Master  71948.0        0      RENT    35000.0   \n",
       "1  21.0  female  High School  12282.0        0       OWN     1000.0   \n",
       "2  25.0  female  High School  12438.0        3  MORTGAGE     5500.0   \n",
       "3  23.0  female     Bachelor  79753.0        0      RENT    35000.0   \n",
       "4  24.0    male       Master  66135.0        1      RENT    35000.0   \n",
       "\n",
       "  loan_intent  int_rate  percent_income  cred_hist  cred_score prev_defaults  \\\n",
       "0    PERSONAL     16.02            0.49        3.0         561            No   \n",
       "1   EDUCATION     11.14            0.08        2.0         504           Yes   \n",
       "2     MEDICAL     12.87            0.44        3.0         635            No   \n",
       "3     MEDICAL     15.23            0.44        2.0         675            No   \n",
       "4     MEDICAL     14.27            0.53        4.0         586            No   \n",
       "\n",
       "   loan_status  \n",
       "0            1  \n",
       "1            0  \n",
       "2            1  \n",
       "3            1  \n",
       "4            1  "
      ]
     },
     "execution_count": 7,
     "metadata": {},
     "output_type": "execute_result"
    }
   ],
   "source": [
    "df = df.rename(columns={\n",
    "    \"person_age\": \"age\",\n",
    "    \"person_gender\": \"gender\",\n",
    "    \"person_education\": \"education\",\n",
    "    \"person_income\": \"income\",\n",
    "    \"person_emp_exp\": \"emp_exp\",\n",
    "    \"person_home_ownership\": \"home_own\",\n",
    "    \"loan_int_rate\": \"int_rate\",\n",
    "    \"loan_percent_income\": \"percent_income\",\n",
    "    \"cb_person_cred_hist_length\": \"cred_hist\",\n",
    "    \"credit_score\": \"cred_score\",\n",
    "    \"previous_loan_defaults_on_file\": \"prev_defaults\"\n",
    "})\n",
    "df.head(5)\n"
   ]
  },
  {
   "cell_type": "markdown",
   "id": "55596853",
   "metadata": {},
   "source": [
    "Categorical data"
   ]
  },
  {
   "cell_type": "code",
   "execution_count": 8,
   "id": "58b65582",
   "metadata": {},
   "outputs": [
    {
     "data": {
      "text/plain": [
       "gender\n",
       "male       24799\n",
       "female     20111\n",
       "Male          45\n",
       "fe male       45\n",
       "Name: count, dtype: int64"
      ]
     },
     "execution_count": 8,
     "metadata": {},
     "output_type": "execute_result"
    }
   ],
   "source": [
    "df['gender'].value_counts()"
   ]
  },
  {
   "cell_type": "code",
   "execution_count": 9,
   "id": "01969e85",
   "metadata": {},
   "outputs": [],
   "source": [
    "df['gender'].replace('Male',\"male\", inplace=True)\n",
    "df['gender'].replace('fe male',\"female\", inplace=True)"
   ]
  },
  {
   "cell_type": "markdown",
   "id": "ae386d1b",
   "metadata": {},
   "source": [
    "ubah data yang salah menggunakan .replace"
   ]
  },
  {
   "cell_type": "code",
   "execution_count": 10,
   "id": "0b78101e",
   "metadata": {},
   "outputs": [
    {
     "data": {
      "text/plain": [
       "education\n",
       "Bachelor       13399\n",
       "Associate      12028\n",
       "High School    11972\n",
       "Master          6980\n",
       "Doctorate        621\n",
       "Name: count, dtype: int64"
      ]
     },
     "execution_count": 10,
     "metadata": {},
     "output_type": "execute_result"
    }
   ],
   "source": [
    "df['education'].value_counts()"
   ]
  },
  {
   "cell_type": "code",
   "execution_count": 11,
   "id": "90f2748f",
   "metadata": {
    "scrolled": true
   },
   "outputs": [
    {
     "data": {
      "text/plain": [
       "home_own\n",
       "RENT        23443\n",
       "MORTGAGE    18489\n",
       "OWN          2951\n",
       "OTHER         117\n",
       "Name: count, dtype: int64"
      ]
     },
     "execution_count": 11,
     "metadata": {},
     "output_type": "execute_result"
    }
   ],
   "source": [
    "df['home_own'].value_counts()"
   ]
  },
  {
   "cell_type": "code",
   "execution_count": 12,
   "id": "a44b9282",
   "metadata": {},
   "outputs": [
    {
     "data": {
      "text/plain": [
       "loan_intent\n",
       "EDUCATION            9153\n",
       "MEDICAL              8548\n",
       "VENTURE              7819\n",
       "PERSONAL             7552\n",
       "DEBTCONSOLIDATION    7145\n",
       "HOMEIMPROVEMENT      4783\n",
       "Name: count, dtype: int64"
      ]
     },
     "execution_count": 12,
     "metadata": {},
     "output_type": "execute_result"
    }
   ],
   "source": [
    "df['loan_intent'].value_counts()"
   ]
  },
  {
   "cell_type": "code",
   "execution_count": 13,
   "id": "d2ff20f1",
   "metadata": {},
   "outputs": [
    {
     "data": {
      "text/plain": [
       "prev_defaults\n",
       "Yes    22858\n",
       "No     22142\n",
       "Name: count, dtype: int64"
      ]
     },
     "execution_count": 13,
     "metadata": {},
     "output_type": "execute_result"
    }
   ],
   "source": [
    "df['prev_defaults'].value_counts()\n"
   ]
  },
  {
   "cell_type": "markdown",
   "id": "ce94b8ee",
   "metadata": {},
   "source": [
    "Numerical"
   ]
  },
  {
   "cell_type": "markdown",
   "id": "3b89d8d5-5f31-4702-926e-fd7c8107b2bc",
   "metadata": {},
   "source": [
    "### SPLIT DATA"
   ]
  },
  {
   "cell_type": "code",
   "execution_count": 14,
   "id": "37bbf697",
   "metadata": {},
   "outputs": [
    {
     "name": "stdout",
     "output_type": "stream",
     "text": [
      "Training set size: (36000, 13)\n",
      "Testing set size: (9000, 13)\n"
     ]
    }
   ],
   "source": [
    "X = df.drop(columns=[\"loan_status\"])\n",
    "y = df[\"loan_status\"]  \n",
    "\n",
    "# Split dataset (80% training, 20% testing)\n",
    "X_train, X_test, y_train, y_test = train_test_split(X, y, test_size=0.2, random_state=42, stratify=y)\n",
    "\n",
    "\n",
    "print(\"Training set size:\", X_train.shape)\n",
    "print(\"Testing set size:\", X_test.shape)"
   ]
  },
  {
   "cell_type": "markdown",
   "id": "d5618e58",
   "metadata": {},
   "source": [
    "Karena tidak ada ketentuan training dan testing, saya menggunakan ratio paling umum 80:20 \n"
   ]
  },
  {
   "cell_type": "markdown",
   "id": "ac76c552",
   "metadata": {},
   "source": [
    "#### handle missing values"
   ]
  },
  {
   "cell_type": "code",
   "execution_count": 15,
   "id": "c890d0ad",
   "metadata": {},
   "outputs": [
    {
     "data": {
      "text/plain": [
       "age                  0\n",
       "gender               0\n",
       "education            0\n",
       "income            1806\n",
       "emp_exp              0\n",
       "home_own             0\n",
       "loan_amnt            0\n",
       "loan_intent          0\n",
       "int_rate             0\n",
       "percent_income       0\n",
       "cred_hist            0\n",
       "cred_score           0\n",
       "prev_defaults        0\n",
       "dtype: int64"
      ]
     },
     "execution_count": 15,
     "metadata": {},
     "output_type": "execute_result"
    }
   ],
   "source": [
    "X_train.isnull().sum()"
   ]
  },
  {
   "cell_type": "code",
   "execution_count": 16,
   "id": "31e828b5-ca61-41d8-b049-08afe029c445",
   "metadata": {},
   "outputs": [
    {
     "name": "stdout",
     "output_type": "stream",
     "text": [
      "mean income: 80400.59697607768\n"
     ]
    }
   ],
   "source": [
    "print('mean income:',np.mean(X_train['income']))"
   ]
  },
  {
   "cell_type": "code",
   "execution_count": 17,
   "id": "a0f684df-d143-42d6-8845-814ea0b436ee",
   "metadata": {},
   "outputs": [],
   "source": [
    "X_train['income'].fillna(80400.59697607768, inplace=True)\n",
    "X_test['income'].fillna(80400.59697607768, inplace=True)"
   ]
  },
  {
   "cell_type": "markdown",
   "id": "e9a51e5e",
   "metadata": {},
   "source": [
    "#### ENCODING"
   ]
  },
  {
   "cell_type": "code",
   "execution_count": 18,
   "id": "186e1a7c",
   "metadata": {},
   "outputs": [],
   "source": [
    "X_train_GenderEncode={\"gender\": {\"male\":1,\"female\" :0}}\n",
    "\n",
    "X_train= X_train.replace(X_train_GenderEncode)\n",
    "X_test= X_test.replace(X_train_GenderEncode)\n",
    "\n",
    "filename = 'gender_encode.pkl'\n",
    "pkl.dump(X_train_GenderEncode, open(filename, 'wb'))"
   ]
  },
  {
   "cell_type": "code",
   "execution_count": 19,
   "id": "523ffcd2",
   "metadata": {},
   "outputs": [],
   "source": [
    "X_train_EducationEncode = {\"education\": {\n",
    "    \"High School\": 0,\n",
    "    \"Associate\": 1,\n",
    "    \"Bachelor\": 2,\n",
    "    \"Master\": 3,\n",
    "    \"Doctorate\": 4\n",
    "}}\n",
    "X_train = X_train.replace(X_train_EducationEncode)\n",
    "X_test = X_test.replace(X_train_EducationEncode)\n",
    "pkl.dump(X_train_EducationEncode, open('education_encode.pkl', 'wb'))"
   ]
  },
  {
   "cell_type": "code",
   "execution_count": 20,
   "id": "3bc6d8f2",
   "metadata": {},
   "outputs": [],
   "source": [
    "X_train_HomeOwnEncode = {\"home_own\": {\"OTHER\": 0, \"RENT\": 1, \"MORTGAGE\": 2, \"OWN\": 3}}\n",
    "X_train = X_train.replace(X_train_HomeOwnEncode)\n",
    "X_test = X_test.replace(X_train_HomeOwnEncode)\n",
    "pkl.dump(X_train_HomeOwnEncode, open('home_own_encode.pkl', 'wb'))"
   ]
  },
  {
   "cell_type": "code",
   "execution_count": 21,
   "id": "5ea85ded",
   "metadata": {},
   "outputs": [],
   "source": [
    "X_train_LoanIntentEncode = {\"loan_intent\": {\n",
    "    \"DEBTCONSOLIDATION\": 0,\n",
    "    \"EDUCATION\": 1,\n",
    "    \"HOMEIMPROVEMENT\": 2,\n",
    "    \"MEDICAL\": 3,\n",
    "    \"PERSONAL\": 4,\n",
    "    \"VENTURE\": 5\n",
    "}}\n",
    "X_train = X_train.replace(X_train_LoanIntentEncode)\n",
    "X_test = X_test.replace(X_train_LoanIntentEncode)\n",
    "pkl.dump(X_train_LoanIntentEncode, open('loan_intent_encode.pkl', 'wb'))"
   ]
  },
  {
   "cell_type": "code",
   "execution_count": 22,
   "id": "b3f0c9db",
   "metadata": {},
   "outputs": [],
   "source": [
    "X_train_PrevDefaultsEncode = {\"prev_defaults\": {\"No\": 0, \"Yes\": 1}}\n",
    "X_train = X_train.replace(X_train_PrevDefaultsEncode)\n",
    "X_test = X_test.replace(X_train_PrevDefaultsEncode)\n",
    "pkl.dump(X_train_PrevDefaultsEncode, open('prev_defaults_encode.pkl', 'wb'))"
   ]
  },
  {
   "cell_type": "markdown",
   "id": "566e395a",
   "metadata": {},
   "source": [
    "Masing masing dari data categorical di encode menggunakan binary encoding lalu disimpan ke file pkl untuk digunakan di OOP training "
   ]
  },
  {
   "cell_type": "markdown",
   "id": "387c923a",
   "metadata": {},
   "source": [
    "## Modelling and Training"
   ]
  },
  {
   "cell_type": "code",
   "execution_count": 23,
   "id": "bea42268",
   "metadata": {},
   "outputs": [],
   "source": [
    "from sklearn.ensemble import RandomForestClassifier\n",
    "from xgboost import XGBClassifier\n",
    "from sklearn.metrics import classification_report, accuracy_score, confusion_matrix"
   ]
  },
  {
   "cell_type": "markdown",
   "id": "5c1a14a7",
   "metadata": {},
   "source": [
    "Random Forest"
   ]
  },
  {
   "cell_type": "code",
   "execution_count": 24,
   "id": "c612d027",
   "metadata": {},
   "outputs": [],
   "source": [
    "rf_model = RandomForestClassifier(random_state=42)\n",
    "rf_model.fit(X_train, y_train)\n",
    "rf_preds = rf_model.predict(X_test)"
   ]
  },
  {
   "cell_type": "markdown",
   "id": "2205b485",
   "metadata": {},
   "source": [
    "membuat model random forest dengan random state 42 kemudian di fit dan predict"
   ]
  },
  {
   "cell_type": "markdown",
   "id": "d9afb2ea",
   "metadata": {},
   "source": [
    "XGBoost"
   ]
  },
  {
   "cell_type": "code",
   "execution_count": 25,
   "id": "c1beeedd",
   "metadata": {},
   "outputs": [
    {
     "name": "stderr",
     "output_type": "stream",
     "text": [
      "c:\\Users\\ASUS\\anaconda3\\Lib\\site-packages\\xgboost\\training.py:183: UserWarning: [22:06:12] WARNING: C:\\actions-runner\\_work\\xgboost\\xgboost\\src\\learner.cc:738: \n",
      "Parameters: { \"use_label_encoder\" } are not used.\n",
      "\n",
      "  bst.update(dtrain, iteration=i, fobj=obj)\n"
     ]
    }
   ],
   "source": [
    "xgb_model = XGBClassifier(use_label_encoder=False, eval_metric='logloss', random_state=42)\n",
    "xgb_model.fit(X_train, y_train)\n",
    "xgb_preds = xgb_model.predict(X_test)"
   ]
  },
  {
   "cell_type": "markdown",
   "id": "09f80b4b",
   "metadata": {},
   "source": [
    "membuat model xgboost dengan eval metric logloss dan random state 42 kemudian di fit dan predict"
   ]
  },
  {
   "cell_type": "markdown",
   "id": "25122198",
   "metadata": {},
   "source": [
    "## Evaluation"
   ]
  },
  {
   "cell_type": "code",
   "execution_count": 26,
   "id": "3b373df5",
   "metadata": {},
   "outputs": [
    {
     "name": "stdout",
     "output_type": "stream",
     "text": [
      "Random Forest:\n",
      "\n",
      "Accuracy: 0.9280\n",
      "\n",
      "Classification Report:\n",
      "              precision    recall  f1-score   support\n",
      "\n",
      "           0       0.94      0.97      0.95      7000\n",
      "           1       0.89      0.77      0.83      2000\n",
      "\n",
      "    accuracy                           0.93      9000\n",
      "   macro avg       0.91      0.87      0.89      9000\n",
      "weighted avg       0.93      0.93      0.93      9000\n",
      "\n",
      "Confusion Matrix:\n",
      "[[6808  192]\n",
      " [ 456 1544]]\n",
      "------------------------------------------------------\n",
      "XGBoost:\n",
      "\n",
      "Accuracy: 0.9377\n",
      "\n",
      "Classification Report:\n",
      "              precision    recall  f1-score   support\n",
      "\n",
      "           0       0.95      0.97      0.96      7000\n",
      "           1       0.90      0.81      0.85      2000\n",
      "\n",
      "    accuracy                           0.94      9000\n",
      "   macro avg       0.92      0.89      0.91      9000\n",
      "weighted avg       0.94      0.94      0.94      9000\n",
      "\n",
      "Confusion Matrix:\n",
      "[[6810  190]\n",
      " [ 371 1629]]\n"
     ]
    }
   ],
   "source": [
    "print(\"Random Forest:\\n\")\n",
    "\n",
    "accuracy = accuracy_score(y_test, rf_preds)\n",
    "print(f\"Accuracy: {accuracy:.4f}\\n\")\n",
    "\n",
    "print(\"Classification Report:\")\n",
    "print(classification_report(y_test, rf_preds))\n",
    "\n",
    "print(\"Confusion Matrix:\")\n",
    "print(confusion_matrix(y_test, rf_preds))\n",
    "\n",
    "print(\"------------------------------------------------------\")\n",
    "print(\"XGBoost:\\n\")\n",
    "\n",
    "accuracy = accuracy_score(y_test, xgb_preds)\n",
    "print(f\"Accuracy: {accuracy:.4f}\\n\")\n",
    "\n",
    "print(\"Classification Report:\")\n",
    "print(classification_report(y_test, xgb_preds))\n",
    "\n",
    "print(\"Confusion Matrix:\")\n",
    "print(confusion_matrix(y_test, xgb_preds))\n"
   ]
  },
  {
   "cell_type": "markdown",
   "id": "ccdc9539",
   "metadata": {},
   "source": [
    "#### 1. Accuracy\n",
    "- Random forest -> 92.8%\n",
    "- XGBoost       -> 93.77%\n",
    "- XGB > Random Forest\n",
    "#### 2. Classification Report\n",
    "- Random Forest -> Class 1       0.89      0.77      0.83      2000\n",
    "- XGBoost       -> Class 1       0.90      0.81      0.85      2000\n",
    "- XGB > Random Forest\n",
    "#### 3. Confusion matriks\n",
    "- Random Forest -> FN -> 456   FP -> 192\n",
    "- XGBoost       -> FN -> 371   FP -> 190\n",
    "- XGB > Random forest \n",
    "\n",
    "### KESIMPULAN\n",
    "- XGBoost adalah pilihan lebih baik untuk deployment"
   ]
  },
  {
   "cell_type": "markdown",
   "id": "9debe410",
   "metadata": {},
   "source": [
    "## SAVE MODEL"
   ]
  },
  {
   "cell_type": "code",
   "execution_count": 27,
   "id": "9e13ee24",
   "metadata": {},
   "outputs": [],
   "source": [
    "pkl.dump(xgb_model, open('finalmodel.pkl', 'wb'))"
   ]
  },
  {
   "cell_type": "code",
   "execution_count": null,
   "id": "9ba23df4-44a9-437a-9a0f-eff1fac4e6e4",
   "metadata": {},
   "outputs": [],
   "source": []
  },
  {
   "cell_type": "code",
   "execution_count": 40,
   "id": "e4983199-2f5d-4468-bca3-6cbe07472b1d",
   "metadata": {},
   "outputs": [
    {
     "data": {
      "text/html": [
       "<div>\n",
       "<style scoped>\n",
       "    .dataframe tbody tr th:only-of-type {\n",
       "        vertical-align: middle;\n",
       "    }\n",
       "\n",
       "    .dataframe tbody tr th {\n",
       "        vertical-align: top;\n",
       "    }\n",
       "\n",
       "    .dataframe thead th {\n",
       "        text-align: right;\n",
       "    }\n",
       "</style>\n",
       "<table border=\"1\" class=\"dataframe\">\n",
       "  <thead>\n",
       "    <tr style=\"text-align: right;\">\n",
       "      <th></th>\n",
       "      <th>age</th>\n",
       "      <th>income</th>\n",
       "      <th>emp_exp</th>\n",
       "      <th>loan_amnt</th>\n",
       "      <th>int_rate</th>\n",
       "      <th>percent_income</th>\n",
       "      <th>cred_hist</th>\n",
       "      <th>cred_score</th>\n",
       "      <th>loan_status</th>\n",
       "    </tr>\n",
       "  </thead>\n",
       "  <tbody>\n",
       "    <tr>\n",
       "      <th>count</th>\n",
       "      <td>34264.000000</td>\n",
       "      <td>34264.000000</td>\n",
       "      <td>34264.000000</td>\n",
       "      <td>34264.000000</td>\n",
       "      <td>34264.000000</td>\n",
       "      <td>34264.000000</td>\n",
       "      <td>34264.000000</td>\n",
       "      <td>34264.000000</td>\n",
       "      <td>34264.000000</td>\n",
       "    </tr>\n",
       "    <tr>\n",
       "      <th>mean</th>\n",
       "      <td>26.410810</td>\n",
       "      <td>70052.937223</td>\n",
       "      <td>4.077311</td>\n",
       "      <td>8275.573138</td>\n",
       "      <td>10.879600</td>\n",
       "      <td>0.129714</td>\n",
       "      <td>5.000088</td>\n",
       "      <td>632.236867</td>\n",
       "      <td>0.201436</td>\n",
       "    </tr>\n",
       "    <tr>\n",
       "      <th>std</th>\n",
       "      <td>3.866703</td>\n",
       "      <td>31531.809737</td>\n",
       "      <td>3.878335</td>\n",
       "      <td>4782.864862</td>\n",
       "      <td>2.928818</td>\n",
       "      <td>0.071512</td>\n",
       "      <td>2.651525</td>\n",
       "      <td>47.633773</td>\n",
       "      <td>0.401079</td>\n",
       "    </tr>\n",
       "    <tr>\n",
       "      <th>min</th>\n",
       "      <td>20.000000</td>\n",
       "      <td>8000.000000</td>\n",
       "      <td>0.000000</td>\n",
       "      <td>500.000000</td>\n",
       "      <td>5.420000</td>\n",
       "      <td>0.010000</td>\n",
       "      <td>2.000000</td>\n",
       "      <td>498.000000</td>\n",
       "      <td>0.000000</td>\n",
       "    </tr>\n",
       "    <tr>\n",
       "      <th>25%</th>\n",
       "      <td>23.000000</td>\n",
       "      <td>46462.250000</td>\n",
       "      <td>1.000000</td>\n",
       "      <td>4800.000000</td>\n",
       "      <td>8.490000</td>\n",
       "      <td>0.070000</td>\n",
       "      <td>3.000000</td>\n",
       "      <td>601.000000</td>\n",
       "      <td>0.000000</td>\n",
       "    </tr>\n",
       "    <tr>\n",
       "      <th>50%</th>\n",
       "      <td>25.000000</td>\n",
       "      <td>64794.500000</td>\n",
       "      <td>3.000000</td>\n",
       "      <td>7350.000000</td>\n",
       "      <td>11.010000</td>\n",
       "      <td>0.120000</td>\n",
       "      <td>4.000000</td>\n",
       "      <td>639.000000</td>\n",
       "      <td>0.000000</td>\n",
       "    </tr>\n",
       "    <tr>\n",
       "      <th>75%</th>\n",
       "      <td>29.000000</td>\n",
       "      <td>88576.000000</td>\n",
       "      <td>6.000000</td>\n",
       "      <td>11026.250000</td>\n",
       "      <td>12.910000</td>\n",
       "      <td>0.180000</td>\n",
       "      <td>7.000000</td>\n",
       "      <td>668.000000</td>\n",
       "      <td>0.000000</td>\n",
       "    </tr>\n",
       "    <tr>\n",
       "      <th>max</th>\n",
       "      <td>39.000000</td>\n",
       "      <td>166681.000000</td>\n",
       "      <td>16.000000</td>\n",
       "      <td>22500.000000</td>\n",
       "      <td>19.690000</td>\n",
       "      <td>0.320000</td>\n",
       "      <td>13.000000</td>\n",
       "      <td>762.000000</td>\n",
       "      <td>1.000000</td>\n",
       "    </tr>\n",
       "  </tbody>\n",
       "</table>\n",
       "</div>"
      ],
      "text/plain": [
       "                age         income       emp_exp     loan_amnt      int_rate  \\\n",
       "count  34264.000000   34264.000000  34264.000000  34264.000000  34264.000000   \n",
       "mean      26.410810   70052.937223      4.077311   8275.573138     10.879600   \n",
       "std        3.866703   31531.809737      3.878335   4782.864862      2.928818   \n",
       "min       20.000000    8000.000000      0.000000    500.000000      5.420000   \n",
       "25%       23.000000   46462.250000      1.000000   4800.000000      8.490000   \n",
       "50%       25.000000   64794.500000      3.000000   7350.000000     11.010000   \n",
       "75%       29.000000   88576.000000      6.000000  11026.250000     12.910000   \n",
       "max       39.000000  166681.000000     16.000000  22500.000000     19.690000   \n",
       "\n",
       "       percent_income     cred_hist    cred_score   loan_status  \n",
       "count    34264.000000  34264.000000  34264.000000  34264.000000  \n",
       "mean         0.129714      5.000088    632.236867      0.201436  \n",
       "std          0.071512      2.651525     47.633773      0.401079  \n",
       "min          0.010000      2.000000    498.000000      0.000000  \n",
       "25%          0.070000      3.000000    601.000000      0.000000  \n",
       "50%          0.120000      4.000000    639.000000      0.000000  \n",
       "75%          0.180000      7.000000    668.000000      0.000000  \n",
       "max          0.320000     13.000000    762.000000      1.000000  "
      ]
     },
     "execution_count": 40,
     "metadata": {},
     "output_type": "execute_result"
    }
   ],
   "source": [
    "df.describe()"
   ]
  }
 ],
 "metadata": {
  "kernelspec": {
   "display_name": "base",
   "language": "python",
   "name": "python3"
  },
  "language_info": {
   "codemirror_mode": {
    "name": "ipython",
    "version": 3
   },
   "file_extension": ".py",
   "mimetype": "text/x-python",
   "name": "python",
   "nbconvert_exporter": "python",
   "pygments_lexer": "ipython3",
   "version": "3.11.5"
  }
 },
 "nbformat": 4,
 "nbformat_minor": 5
}
